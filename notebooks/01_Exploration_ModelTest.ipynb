{
 "cells": [
  {
   "cell_type": "markdown",
   "id": "f12dada3",
   "metadata": {},
   "source": [
    "# 🐦 Twitter Sentiment Analysis\n",
    "Using RoBERTa model with Gradio Interface"
   ]
  },
  {
   "cell_type": "markdown",
   "id": "e50d4ae8",
   "metadata": {},
   "source": [
    "## 🎯 Objective\n",
    "To classify sentiment of tweets using a fine-tuned RoBERTa model."
   ]
  },
  {
   "cell_type": "code",
   "execution_count": null,
   "id": "7a494b6d",
   "metadata": {},
   "outputs": [],
   "source": [
    "import pandas as pd\n",
    "import matplotlib.pyplot as plt\n",
    "from transformers import AutoTokenizer, AutoModelForSequenceClassification\n",
    "from scipy.special import softmax"
   ]
  },
  {
   "cell_type": "code",
   "execution_count": null,
   "id": "4b4e4368",
   "metadata": {},
   "outputs": [],
   "source": [
    "roberta = 'cardiffnlp/twitter-roberta-base-sentiment'\n",
    "tokenizer = AutoTokenizer.from_pretrained(roberta)\n",
    "model = AutoModelForSequenceClassification.from_pretrained(roberta)\n",
    "labels = ['Negative', 'Neutral', 'Positive']"
   ]
  },
  {
   "cell_type": "code",
   "execution_count": null,
   "id": "9b2172a4",
   "metadata": {},
   "outputs": [],
   "source": [
    "def preprocess_tweet(tweet):\n",
    "    tweet_words = []\n",
    "    for word in tweet.split():\n",
    "        if word.startswith('@') and len(word) > 1:\n",
    "            word = '@user'\n",
    "        elif word.startswith('http'):\n",
    "            word = 'http'\n",
    "        tweet_words.append(word)\n",
    "    return ' '.join(tweet_words)\n",
    "\n",
    "def classify_sentiment(tweet):\n",
    "    tweet_proc = preprocess_tweet(tweet)\n",
    "    encoded_tweet = tokenizer(tweet_proc, return_tensors='pt')\n",
    "    output = model(**encoded_tweet)\n",
    "    scores = softmax(output[0][0].detach().numpy())\n",
    "    max_score_idx = scores.argmax()\n",
    "    return labels[max_score_idx]"
   ]
  },
  {
   "cell_type": "code",
   "execution_count": null,
   "id": "bce1051f",
   "metadata": {},
   "outputs": [],
   "source": [
    "tweets = ['I love this!', 'This is bad.', \"Meh, it's okay.\", 'Absolutely terrible experience.', 'What a wonderful day!']\n",
    "df = pd.DataFrame(tweets, columns=['TweetText'])\n",
    "df['Sentiment'] = df['TweetText'].apply(classify_sentiment)\n",
    "df"
   ]
  },
  {
   "cell_type": "code",
   "execution_count": null,
   "id": "296babcb",
   "metadata": {},
   "outputs": [],
   "source": [
    "sentiment_counts = df['Sentiment'].value_counts()\n",
    "plt.figure(figsize=(6, 4))\n",
    "plt.bar(sentiment_counts.index, sentiment_counts.values, color=['green', 'blue', 'red'])\n",
    "plt.title('Sentiment Distribution')\n",
    "plt.xlabel('Sentiment')\n",
    "plt.ylabel('Count')\n",
    "plt.tight_layout()\n",
    "plt.show()"
   ]
  }
 ],
 "metadata": {},
 "nbformat": 4,
 "nbformat_minor": 5
}